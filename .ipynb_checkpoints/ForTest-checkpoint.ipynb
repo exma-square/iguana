{
 "cells": [
  {
   "cell_type": "code",
   "execution_count": 1,
   "metadata": {
    "collapsed": true
   },
   "outputs": [],
   "source": [
    "# -*- coding: utf-8 -*-\n",
    "import requests\n",
    "from bs4 import BeautifulSoup\n",
    "from pymongo import MongoClient\n",
    "from datetime import datetime"
   ]
  },
  {
   "cell_type": "code",
   "execution_count": 33,
   "metadata": {
    "collapsed": true
   },
   "outputs": [],
   "source": [
    "breakingnewsReq = requests.get(\"http://news.ltn.com.tw/list/BreakingNews\")\n",
    "breakingnewsSoup = BeautifulSoup(breakingnewsReq.text, \"html.parser\")"
   ]
  },
  {
   "cell_type": "code",
   "execution_count": 12,
   "metadata": {
    "collapsed": false
   },
   "outputs": [
    {
     "name": "stdout",
     "output_type": "stream",
     "text": [
      "焦點\n"
     ]
    }
   ],
   "source": [
    "categoryDict = {\"tab1\":\"焦點\", \"tab2\":\"政治\",\"tab3\":\"社會\",\"tab4\":\"生活\",\"tab5\":\"國際\",\"tab6\":\"言論\",\"tab7\":\"財經\",\"tab8\":\"體育\",\"tab9\":\"地方\",\"tab10\":\"娛樂\",\"tab11\":\"消費\",\"tab12\":\"副刊\",\"tab13\":\"3C\",\"tab14\":\"汽車\",\"tab15\":\"iStyle\"}\n",
    "print categoryDict[\"tab1\"]"
   ]
  },
  {
   "cell_type": "code",
   "execution_count": 29,
   "metadata": {
    "collapsed": false
   },
   "outputs": [
    {
     "name": "stdout",
     "output_type": "stream",
     "text": [
      "公益\n",
      "愛心\n",
      "耶誕\n",
      "耶誕節\n"
     ]
    }
   ],
   "source": [
    "detailReq = requests.get(\"http://news.ltn.com.tw/news/society/breakingnews/1534459\")\n",
    "detailSoup = BeautifulSoup(detailReq.text, \"html.parser\")\n",
    "keywords = detailSoup.select('.con_keyword a')\n",
    "for key in keywords:\n",
    "    print key.text"
   ]
  },
  {
   "cell_type": "code",
   "execution_count": 34,
   "metadata": {
    "collapsed": false
   },
   "outputs": [],
   "source": [
    "breakingnews = []\n",
    "categoryDict = {\"tab1\":\"焦點\", \"tab2\":\"政治\",\"tab3\":\"社會\",\"tab4\":\"生活\",\"tab5\":\"國際\",\"tab6\":\"言論\",\"tab7\":\"財經\",\"tab8\":\"體育\",\"tab9\":\"地方\",\"tab10\":\"娛樂\",\"tab11\":\"消費\",\"tab12\":\"副刊\",\"tab13\":\"3C\",\"tab14\":\"汽車\",\"tab15\":\"iStyle\"}\n",
    "for titles, time, category in zip(breakingnewsSoup.select('.lipic .picword') , breakingnewsSoup.select('.lipic span') , breakingnewsSoup.select('.lipic span a')):\n",
    "    url = titles.get('href')\n",
    "    \n",
    "    title = titles.text\n",
    "    \n",
    "    time = time.text\n",
    "    time = time.replace(\"-\" , \"/\")\n",
    "    time = datetime.strptime(time, '%Y/%m/%d %H:%M')\n",
    "    \n",
    "    category = category.get('class')\n",
    "    category = categoryDict[category[0]]\n",
    "    \n",
    "    #print url, title, time, category\n",
    "    \n",
    "    fbReq = requests.get('https://graph.facebook.com/?ids=' + url)\n",
    "    fbData = fbReq.json()\n",
    "    shareCount = fbData[url]['shares'] if fbData[url].has_key('shares') else 0\n",
    "    likeCount = shareCount\n",
    "    commentCount = fbData[url]['comments'] if fbData[url].has_key('comments') else 0\n",
    "    \n",
    "    detailReq = requests.get(url)\n",
    "    detailSoup = BeautifulSoup(detailReq.text, \"html.parser\")\n",
    "    \n",
    "    content = []\n",
    "    keyword = []\n",
    "    \n",
    "    contents = detailSoup.select('meta[property=\"og:description\"]')\n",
    "    for cont in contents:\n",
    "        content.append(cont.get('content'))\n",
    "    keywords = detailSoup.select('.con_keyword a')\n",
    "    for key in keywords:\n",
    "        keyword.append(key.text)\n",
    "    img = detailSoup.select('meta[property=\"og:image\"]')[0].get('content')\n",
    "\n",
    "    breakingnews.append([title, category, keyword, shareCount, likeCount, commentCount, content, url, time, img])\n",
    "    "
   ]
  },
  {
   "cell_type": "code",
   "execution_count": 35,
   "metadata": {
    "collapsed": false
   },
   "outputs": [
    {
     "name": "stdout",
     "output_type": "stream",
     "text": [
      "Keywords:\n",
      "Keywords: 公平會 聯合壟斷 電容器\n",
      "Keywords: 勞動部 勞基法 國定假日 綠社盟 綠黨\n",
      "Keywords: 公益 愛心 耶誕 耶誕節\n",
      "Keywords:\n",
      "Keywords: 創世 捐款筒 認捐\n",
      "Keywords:\n",
      "Keywords:\n",
      "Keywords:\n",
      "Keywords: 健康醫療 微整形 玻尿酸 自體脂肪 自體脂肪移植\n",
      "Keywords:\n",
      "Keywords: 2016總統大選 王如玄 監察院 羅瑩雪 行政訴訟 黃東焄\n",
      "Keywords: 小型工程款 濫權 覆議\n",
      "Keywords: 茄苳 茄苳樹 褐根病 褐根菌\n",
      "Keywords: 奇異電氣 富邦集團 現代汽車 現代資本 股權\n",
      "Keywords: 一卡通 耶誕 迷路小瑪\n",
      "Keywords:\n",
      "Keywords:\n",
      "Keywords: 公然侮辱 口角 台安醫院 妨害名譽 混蛋 診斷證明 錄音\n",
      "Keywords:\n",
      "Keywords:\n",
      "Keywords: 2016總統大選 王如玄 軍宅\n",
      "Keywords: CNN 台灣 復興空難 復興航空\n",
      "Keywords: 詐欺 詐騙\n"
     ]
    }
   ],
   "source": [
    "for lists in breakingnews:\n",
    "    [title, category, keywords, shareCount, likeCount, commentCount, content, url, time, img] = lists\n",
    "#    print \"Title:\" + title\n",
    "#     print \"Category:\" + category\n",
    "    print \"Keywords:\",\n",
    "    for key in keywords:\n",
    "        print key,\n",
    "    print\n",
    "#     print \"ShareCount:\",\n",
    "#     print shareCount\n",
    "#     print \"LikeCount:\", \n",
    "#     print likeCount\n",
    "#     print \"CommentCount:\",\n",
    "#     print commentCount\n",
    "#     print \"Content:\",\n",
    "#     for c in content:\n",
    "#         print c\n",
    " #   print \"Url:\" + url\n",
    "#     print \"Time:\",\n",
    "#     print time\n",
    "#     print \"Img:\" + img"
   ]
  },
  {
   "cell_type": "code",
   "execution_count": 36,
   "metadata": {
    "collapsed": true
   },
   "outputs": [],
   "source": [
    "create_at = datetime.now();\n",
    "col_LTN = MongoClient('192.168.99.100', 27017).iguana.LTN\n",
    "col_LTN_count = MongoClient('192.168.99.100', 27017).iguana.LTN_count"
   ]
  },
  {
   "cell_type": "code",
   "execution_count": 16,
   "metadata": {
    "collapsed": false
   },
   "outputs": [],
   "source": [
    "for lists in hotnews:\n",
    "    [title, category, keywords, shareCount, likeCount, commentCount, content, url, time, img] = lists\n",
    "    content_dataObject = {\n",
    "        \"title\": title, # 標題\n",
    "        \"category\": category, # 分類\n",
    "        \"keywords\" : keywords, #關鍵字\n",
    "        \"content\": content, #內文\n",
    "        \"url\" : url, # 網址\n",
    "        \"create_date\" : time, # 發布時間\n",
    "        \"create_at\" : create_at, #寫入時間\n",
    "        \"image\" : img, # 圖片\n",
    "        \"source\" : \"Ettoday\", # 來源\n",
    "    }\n",
    "    col_ettoday.update_one(\n",
    "        {\n",
    "           \"title\": title\n",
    "        },\n",
    "        {\"$set\": content_dataObject},\n",
    "        upsert = True\n",
    "    )\n",
    "    news_id = col_ettoday.find_one({'title': title})['_id']\n",
    "    count_dataObject = {\n",
    "        \"news_id\" : news_id,\n",
    "        \"shareCount\": shareCount, # 分享數\n",
    "        \"likeCount\": likeCount, # 按讚數\n",
    "        \"commentCount\": commentCount, #評論數\n",
    "        \"update_time\" : create_at,\n",
    "        \"browserCount\": None, # 瀏覽數\n",
    "    }\n",
    "    col_ettoday_count.update_one(\n",
    "        {\n",
    "        \"shareCount\": shareCount, # 分享數\n",
    "        \"likeCount\": likeCount, # 按讚數\n",
    "        \"commentCount\": commentCount, #評論數\n",
    "        \"update_time\" : create_at\n",
    "        },\n",
    "        {\"$set\": count_dataObject} ,\n",
    "        upsert = True\n",
    "    )"
   ]
  },
  {
   "cell_type": "code",
   "execution_count": 38,
   "metadata": {
    "collapsed": false
   },
   "outputs": [],
   "source": [
    "for lists in breakingnews:\n",
    "    [title, category, keywords, shareCount, likeCount, commentCount, content, url, time, img] = lists\n",
    "    content_dataObject = {\n",
    "        \"title\": title, # 標題\n",
    "        \"category\": category, # 分類\n",
    "        \"keywords\" : keywords, #關鍵字\n",
    "        \"content\": content, #內文\n",
    "        \"url\" : url, # 網址\n",
    "        \"create_date\" : time, # 發布時間\n",
    "        \"create_at\" : create_at, #寫入時間\n",
    "        \"image\" : img, # 圖片\n",
    "        \"source\" : \"LTN\", # 來源\n",
    "    }\n",
    "    col_LTN.update_one(\n",
    "        {\n",
    "           \"title\": title\n",
    "        },\n",
    "        {\"$set\": content_dataObject},\n",
    "        upsert = True\n",
    "    )\n",
    "    news_id = col_LTN.find_one({'title': title})['_id']\n",
    "    count_dataObject = {\n",
    "        \"news_id\" : news_id,\n",
    "        \"shareCount\": shareCount, # 分享數\n",
    "        \"likeCount\": likeCount, # 按讚數\n",
    "        \"commentCount\": commentCount, #評論數\n",
    "        \"update_time\" : create_at,\n",
    "        \"browserCount\": None, # 瀏覽數\n",
    "    }\n",
    "    col_LTN_count.update_one(\n",
    "        {\n",
    "        \"news_id\" : news_id,\n",
    "        \"shareCount\": shareCount, # 分享數\n",
    "        \"likeCount\": likeCount, # 按讚數\n",
    "        \"commentCount\": commentCount, #評論數\n",
    "        \"update_time\" : create_at\n",
    "        },\n",
    "        {\"$set\": count_dataObject} ,\n",
    "        upsert = True\n",
    "    )\n",
    "\n"
   ]
  },
  {
   "cell_type": "code",
   "execution_count": null,
   "metadata": {
    "collapsed": true
   },
   "outputs": [],
   "source": []
  }
 ],
 "metadata": {
  "kernelspec": {
   "display_name": "Python 2",
   "language": "python",
   "name": "python2"
  },
  "language_info": {
   "codemirror_mode": {
    "name": "ipython",
    "version": 2
   },
   "file_extension": ".py",
   "mimetype": "text/x-python",
   "name": "python",
   "nbconvert_exporter": "python",
   "pygments_lexer": "ipython2",
   "version": "2.7.10"
  }
 },
 "nbformat": 4,
 "nbformat_minor": 0
}
